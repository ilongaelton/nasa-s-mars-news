{
 "cells": [
  {
   "cell_type": "code",
   "execution_count": 1,
   "id": "63c48477-8bfc-4573-a3bf-2b507603c2bb",
   "metadata": {},
   "outputs": [],
   "source": [
    "# pip install requests beautifulsoup4\n"
   ]
  },
  {
   "cell_type": "code",
   "execution_count": 3,
   "id": "72afefd3-e4ec-4ba4-b7f9-4c137abf769d",
   "metadata": {},
   "outputs": [],
   "source": [
    "import requests\n",
    "from bs4 import BeautifulSoup\n",
    "import json\n"
   ]
  },
  {
   "cell_type": "code",
   "execution_count": 5,
   "id": "ba64b0b1-9c51-4bfa-99a3-37a1dfc1e401",
   "metadata": {},
   "outputs": [],
   "source": [
    "url = \"https://mars.nasa.gov/news/\"\n",
    "response = requests.get(url)\n"
   ]
  },
  {
   "cell_type": "code",
   "execution_count": 7,
   "id": "4d5ad563-ffe3-4159-9c5c-1971da1bd7c8",
   "metadata": {},
   "outputs": [],
   "source": [
    "soup = BeautifulSoup(response.text, 'html.parser')\n"
   ]
  },
  {
   "cell_type": "code",
   "execution_count": 9,
   "id": "7276ce8a-576e-47ad-9a6e-93e02b2fb0b0",
   "metadata": {},
   "outputs": [],
   "source": [
    "articles = soup.find_all('div', class_='list_text')  # Adjust based on the actual class of the articles\n",
    "\n",
    "news_data = []\n",
    "for article in articles:\n",
    "    title = article.find('a', class_='content_title').text.strip()\n",
    "    preview = article.find('div', class_='article_teaser_body').text.strip()\n",
    "    \n",
    "    news_data.append({\n",
    "        'title': title,\n",
    "        'preview': preview\n",
    "    })\n"
   ]
  },
  {
   "cell_type": "code",
   "execution_count": 11,
   "id": "8d8a58e2-c68a-456c-9bc9-153d10594e97",
   "metadata": {},
   "outputs": [
    {
     "name": "stdout",
     "output_type": "stream",
     "text": [
      "[]\n"
     ]
    }
   ],
   "source": [
    "print(news_data)\n"
   ]
  },
  {
   "cell_type": "code",
   "execution_count": 13,
   "id": "d1231aab-f244-425d-8b3f-11c6ce5d7c20",
   "metadata": {},
   "outputs": [],
   "source": [
    "with open('mars_news.json', 'w') as json_file:\n",
    "    json.dump(news_data, json_file, indent=4)\n"
   ]
  },
  {
   "cell_type": "code",
   "execution_count": null,
   "id": "729c2f35-1025-4034-8314-5067817f933d",
   "metadata": {},
   "outputs": [],
   "source": []
  }
 ],
 "metadata": {
  "kernelspec": {
   "display_name": "Python [conda env:base] *",
   "language": "python",
   "name": "conda-base-py"
  },
  "language_info": {
   "codemirror_mode": {
    "name": "ipython",
    "version": 3
   },
   "file_extension": ".py",
   "mimetype": "text/x-python",
   "name": "python",
   "nbconvert_exporter": "python",
   "pygments_lexer": "ipython3",
   "version": "3.12.7"
  }
 },
 "nbformat": 4,
 "nbformat_minor": 5
}
